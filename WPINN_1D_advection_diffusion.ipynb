{
 "cells": [
  {
   "cell_type": "code",
   "execution_count": 1,
   "id": "d320760e-52d1-46a2-b470-a73c51ecc404",
   "metadata": {
    "execution": {
     "iopub.execute_input": "2024-11-10T19:52:17.593845Z",
     "iopub.status.busy": "2024-11-10T19:52:17.592858Z",
     "iopub.status.idle": "2024-11-10T19:52:19.600118Z",
     "shell.execute_reply": "2024-11-10T19:52:19.599286Z",
     "shell.execute_reply.started": "2024-11-10T19:52:17.593784Z"
    }
   },
   "outputs": [],
   "source": [
    "import torch\n",
    "import torch.nn as nn\n",
    "import torch.optim as optim\n",
    "import torch.nn.init as init\n",
    "import numpy as np\n",
    "from numpy import random as npr\n",
    "from math import gamma\n",
    "from math import factorial\n",
    "from sobol_seq import sobol_seq\n",
    "import matplotlib.pyplot as plt"
   ]
  },
  {
   "cell_type": "code",
   "execution_count": 2,
   "id": "5cd84d19-c2a2-414f-a1a1-12b0bd736d9b",
   "metadata": {
    "execution": {
     "iopub.execute_input": "2024-11-10T19:52:19.601569Z",
     "iopub.status.busy": "2024-11-10T19:52:19.601242Z",
     "iopub.status.idle": "2024-11-10T19:52:19.605101Z",
     "shell.execute_reply": "2024-11-10T19:52:19.604441Z",
     "shell.execute_reply.started": "2024-11-10T19:52:19.601550Z"
    }
   },
   "outputs": [],
   "source": [
    "device = torch.device('cuda:0')"
   ]
  },
  {
   "cell_type": "code",
   "execution_count": 3,
   "id": "d973707c-e026-4570-85c9-3cc4c82d81d4",
   "metadata": {
    "execution": {
     "iopub.execute_input": "2024-11-10T19:52:19.607342Z",
     "iopub.status.busy": "2024-11-10T19:52:19.606864Z",
     "iopub.status.idle": "2024-11-10T19:52:19.895399Z",
     "shell.execute_reply": "2024-11-10T19:52:19.894457Z",
     "shell.execute_reply.started": "2024-11-10T19:52:19.607295Z"
    }
   },
   "outputs": [],
   "source": [
    "n_collocation = 1000\n",
    "n_validation = 1000\n",
    "n_initial = 100\n",
    "n_boundary = 100\n",
    "x_lower = 0\n",
    "x_upper = 1\n",
    "e = torch.tensor(2**-7).to(device)\n",
    "\n",
    "def analytical(x):\n",
    "    return (torch.exp(-x) - torch.exp(-x/e))/(torch.exp(torch.tensor(-1)) - torch.exp(-1/e))\n",
    "\n",
    "# Collocation points (random interior points)\n",
    "sobol_sequence = sobol_seq.i4_sobol_generate(1,n_collocation)\n",
    "x_collocation = torch.tensor(sobol_sequence.flatten().tolist()).reshape(n_collocation).to(device)\n",
    "x_validation = (torch.rand(n_collocation) * (x_upper - x_lower) + x_lower).to(device)\n",
    "\n",
    "\n",
    "x_bc0 = torch.zeros(n_initial).to(device)\n",
    "x_bc1 = torch.ones(n_initial).to(device)\n",
    "u_bc0 = analytical(x_bc0) \n",
    "u_bc1 = analytical(x_bc1)\n",
    "\n",
    "\n",
    "exact = analytical(x_validation)"
   ]
  },
  {
   "cell_type": "code",
   "execution_count": 4,
   "id": "d6c469ca-aa14-4dbb-bc2c-8d513e685530",
   "metadata": {
    "execution": {
     "iopub.execute_input": "2024-11-10T19:52:19.898368Z",
     "iopub.status.busy": "2024-11-10T19:52:19.897750Z",
     "iopub.status.idle": "2024-11-10T19:52:21.171332Z",
     "shell.execute_reply": "2024-11-10T19:52:21.170729Z",
     "shell.execute_reply.started": "2024-11-10T19:52:19.898319Z"
    }
   },
   "outputs": [
    {
     "name": "stdout",
     "output_type": "stream",
     "text": [
      "2301\n"
     ]
    }
   ],
   "source": [
    "\n",
    "# Gaussian Wavelet\n",
    "def wavelet(x,j,k):\n",
    "    return -(j*x - k)*torch.exp(-((j*x - k)**2)/2)\n",
    "\n",
    "def D1wavelet(x,j,k):\n",
    "    return j*((j*x - k)**2 - 1)*torch.exp(-((j*x - k)**2)/2)\n",
    "\n",
    "def D2wavelet(x,j,k):\n",
    "    return (j**2)*(j*x - k)*(3 - (j*x - k)**2)*torch.exp(-((j*x - k)**2)/2)\n",
    "\n",
    "'''\n",
    "# Mexican hat Wavelet\n",
    "def wavelet(x,j,k):\n",
    "    return ((1-(j*x-k)**2)*torch.exp(-((j*x-k)**2)/2))\n",
    "\n",
    "def D1wavelet(x,j,k):\n",
    "    return -j*(j*x-k)*(3-(j*x-k)**2)*torch.exp(-((j*x-k)**2)/2)\n",
    "\n",
    "def D2wavelet(x,j,k):\n",
    "    return -j**2*(3-6*(j*x-k)**2+(j*x-k)**4)*torch.exp(-((j*x-k)**2)/2)\n",
    "'''\n",
    "\n",
    "\n",
    "\n",
    "# J = torch.tensor(11) #for mex\n",
    "J = torch.arange(0,10)\n",
    "\n",
    "family = torch.tensor([(2**j,k) for j in J for k in range(-int(2**(j-2)),int(2**(j+1)))])\n",
    "print(len(family))\n",
    "\n",
    "\n",
    "Wfamily = torch.stack([wavelet(x_collocation,family[i,0],family[i,1]) for i in range(len(family))]).T\n",
    "DWx = torch.stack([D1wavelet(x_collocation,family[i,0],family[i,1]) for i in range(len(family))]).T\n",
    "DW2x = torch.stack([D2wavelet(x_collocation,family[i,0],family[i,1]) for i in range(len(family))]).T\n",
    "\n",
    "Wbc0 = torch.stack([wavelet(x_bc0,family[i,0],family[i,1]) for i in range(len(family))]).T\n",
    "Wbc1 = torch.stack([wavelet(x_bc1,family[i,0],family[i,1]) for i in range(len(family))]).T\n",
    "\n",
    "Wval = torch.stack([wavelet(x_validation,family[i,0],family[i,1]) for i in range(len(family))]).T\n",
    "    "
   ]
  },
  {
   "cell_type": "code",
   "execution_count": 5,
   "id": "8314c4a0-65ce-496f-81eb-d953ff240daa",
   "metadata": {
    "execution": {
     "iopub.execute_input": "2024-11-10T19:52:22.308635Z",
     "iopub.status.busy": "2024-11-10T19:52:22.307923Z",
     "iopub.status.idle": "2024-11-10T19:52:23.002398Z",
     "shell.execute_reply": "2024-11-10T19:52:23.001426Z",
     "shell.execute_reply.started": "2024-11-10T19:52:22.308552Z"
    }
   },
   "outputs": [
    {
     "data": {
      "text/plain": [
       "torch.Size([1000])"
      ]
     },
     "execution_count": 5,
     "metadata": {},
     "output_type": "execute_result"
    }
   ],
   "source": [
    "class Model(nn.Module):\n",
    "    def __init__(self, input_size = n_collocation, \n",
    "                 num_hidden_layers = 6, \n",
    "                 hidden_neurons = 100, \n",
    "                 family_size = len(family)):\n",
    "        \n",
    "        super(Model, self).__init__()\n",
    "        \n",
    "        self.activation = nn.Sigmoid()\n",
    "        \n",
    "        layers = []\n",
    "        \n",
    "        # Input size is now just input_size (number of points) since each point has 1 feature\n",
    "        layers.append(nn.Linear(input_size, hidden_neurons))\n",
    "        layers.append(self.activation)\n",
    "        \n",
    "        for _ in range(num_hidden_layers):  # Fewer layers in second stage\n",
    "            layers.append(nn.Linear(hidden_neurons, hidden_neurons))\n",
    "            layers.append(self.activation)\n",
    "        \n",
    "        # Final layer outputs the wavelet coefficients\n",
    "        layers.append(nn.Linear(hidden_neurons, family_size))\n",
    "        self.trainable_network = nn.Sequential(*layers)\n",
    "        \n",
    "        # Initialize weights\n",
    "        for m in self.trainable_network:\n",
    "            if isinstance(m, nn.Linear):\n",
    "                init.xavier_uniform_(m.weight)\n",
    "                init.constant_(m.bias, 0)\n",
    "        \n",
    "        # Output layers for the different derivatives\n",
    "        self.output_layers = nn.ModuleList()\n",
    "        for i in range(3):\n",
    "            output_layer = nn.Linear(family_size, 1)\n",
    "            output_layer.weight.requires_grad = False\n",
    "            output_layer.bias.data = torch.tensor(0.0 if i > 0 else 0.5)\n",
    "            output_layer.bias.requires_grad = i == 0\n",
    "            self.output_layers.append(output_layer)\n",
    "\n",
    "    def forward(self, x, W):\n",
    "\n",
    "        inp = x.reshape(1,n_collocation)\n",
    "        coefficients = self.trainable_network(inp)  # Shape: [family_size]\n",
    "        \n",
    "        # Generate outputs using the wavelet family\n",
    "        outputs = []\n",
    "        for i, layer in enumerate(self.output_layers):\n",
    "            layer.weight.data = W[i]\n",
    "            outputs.append(layer(coefficients).reshape(-1))\n",
    "\n",
    "        bias = self.output_layers[0].bias.data\n",
    "        \n",
    "        return coefficients.squeeze(), bias, outputs\n",
    "        \n",
    "\n",
    "model = Model().to(device)\n",
    "optimizer = optim.Adam(model.parameters(), lr=0.0001)#, weight_decay=10**-4)\n",
    "# beta = 0.9\n",
    "# optimizer1 = optim.Adam(model.parameters(), lr=0.00001, betas=(beta, 0.999))\n",
    "\n",
    "c, b, u = model(x_collocation, [Wfamily, DWx, DW2x])\n",
    "u[0].shape"
   ]
  },
  {
   "cell_type": "code",
   "execution_count": 6,
   "id": "9866e4ca-3029-4f3d-b908-4205eb2361cd",
   "metadata": {
    "execution": {
     "iopub.execute_input": "2024-11-10T19:52:23.629374Z",
     "iopub.status.busy": "2024-11-10T19:52:23.628231Z",
     "iopub.status.idle": "2024-11-10T19:52:23.646666Z",
     "shell.execute_reply": "2024-11-10T19:52:23.644985Z",
     "shell.execute_reply.started": "2024-11-10T19:52:23.629268Z"
    }
   },
   "outputs": [],
   "source": [
    "def compute_pinn_loss():\n",
    "\n",
    "    global c, b\n",
    "    c, b, u = model(x_collocation, [Wfamily, DWx, DW2x])\n",
    "    \n",
    "    pde_loss = torch.mean((e*u[2] + (1+e)*u[1] + u[0]) ** 2)\n",
    "    \n",
    "    # Initial condition loss\n",
    "    # u_pred_ic = model(t_ic, [Wic, DWic, DWic])\n",
    "    u_pred_bc0 = torch.mv(Wbc0, c) + b\n",
    "    u_pred_bc1 = torch.mv(Wbc1, c) + b\n",
    "    \n",
    "    bc_loss0 = torch.mean((u_pred_bc0 - u_bc0) ** 2)\n",
    "    bc_loss1 = torch.mean((u_pred_bc1 - u_bc1) ** 2)\n",
    "    \n",
    "    total_loss = pde_loss + bc_loss0 + bc_loss1\n",
    "    \n",
    "    return total_loss, pde_loss    #, pde_loss, ic_loss, bc_loss\n",
    "\n",
    "def train_pinn():\n",
    "    # Training loop\n",
    "    losses = []\n",
    "    for epoch in range(num_epochs):\n",
    "        optimizer.zero_grad()\n",
    "        \n",
    "        total_loss, pde_loss = compute_pinn_loss()\n",
    "        \n",
    "        total_loss.backward()\n",
    "        optimizer.step()\n",
    "        \n",
    "        losses.append(pde_loss.item())\n",
    "        \n",
    "        if (epoch) % 1000 == 0:\n",
    "\n",
    "            # numerical = model(t_validation, [Wval]*3)[0]\n",
    "            numerical = torch.mv(Wval, c) + b\n",
    "  \n",
    "            errL2 = (torch.sum(torch.abs(exact-numerical)**2))**0.5 / (torch.sum(torch.abs(exact)**2))**0.5\n",
    "            errMax = torch.max(torch.abs(exact-numerical))\n",
    "            \n",
    "            print(f'Epoch [{epoch}/{num_epochs-1}], '\n",
    "                  f'Total Loss: {total_loss.item():.6f},\\t\\t '\n",
    "                  f'RelativeL2: {errL2},\\t\\t'\n",
    "                  f'Max: {errMax}\\n' )\n",
    "    \n",
    "    return losses"
   ]
  },
  {
   "cell_type": "code",
   "execution_count": 7,
   "id": "af2d8e4c-eb2b-483b-a20b-7be7e09dcf27",
   "metadata": {
    "execution": {
     "iopub.execute_input": "2024-11-10T19:52:30.104219Z",
     "iopub.status.busy": "2024-11-10T19:52:30.102904Z",
     "iopub.status.idle": "2024-11-10T19:53:03.014977Z",
     "shell.execute_reply": "2024-11-10T19:53:03.014074Z",
     "shell.execute_reply.started": "2024-11-10T19:52:30.104159Z"
    }
   },
   "outputs": [
    {
     "name": "stdout",
     "output_type": "stream",
     "text": [
      "Epoch [0/20000], Total Loss: 376635.625000,\t\t RelativeL2: 0.6998628377914429,\t\tMax: 2.426898956298828\n",
      "\n",
      "Epoch [1000/20000], Total Loss: 0.318359,\t\t RelativeL2: 0.6096674203872681,\t\tMax: 1.6765573024749756\n",
      "\n",
      "Epoch [2000/20000], Total Loss: 0.049580,\t\t RelativeL2: 0.2299814522266388,\t\tMax: 0.6326515674591064\n",
      "\n",
      "Epoch [3000/20000], Total Loss: 0.005607,\t\t RelativeL2: 0.04272434860467911,\t\tMax: 0.1176292896270752\n",
      "\n",
      "Epoch [4000/20000], Total Loss: 0.049537,\t\t RelativeL2: 0.0023801601491868496,\t\tMax: 0.0067632198333740234\n",
      "\n",
      "Epoch [5000/20000], Total Loss: 0.065252,\t\t RelativeL2: 0.0001312742824666202,\t\tMax: 0.0024544596672058105\n",
      "\n",
      "Epoch [6000/20000], Total Loss: 0.012459,\t\t RelativeL2: 0.00012523331679403782,\t\tMax: 0.002448856830596924\n",
      "\n",
      "Epoch [7000/20000], Total Loss: 0.522015,\t\t RelativeL2: 0.00025430539972148836,\t\tMax: 0.0024620890617370605\n",
      "\n",
      "Epoch [8000/20000], Total Loss: 0.164577,\t\t RelativeL2: 0.00022574569447897375,\t\tMax: 0.0022528767585754395\n",
      "\n"
     ]
    },
    {
     "ename": "KeyboardInterrupt",
     "evalue": "",
     "output_type": "error",
     "traceback": [
      "\u001b[0;31m---------------------------------------------------------------------------\u001b[0m",
      "\u001b[0;31mKeyboardInterrupt\u001b[0m                         Traceback (most recent call last)",
      "Cell \u001b[0;32mIn[7], line 4\u001b[0m\n\u001b[1;32m      1\u001b[0m num_epochs \u001b[38;5;241m=\u001b[39m \u001b[38;5;241m2\u001b[39m\u001b[38;5;241m*\u001b[39m\u001b[38;5;241m10\u001b[39m\u001b[38;5;241m*\u001b[39m\u001b[38;5;241m*\u001b[39m\u001b[38;5;241m4\u001b[39m\u001b[38;5;241m+\u001b[39m\u001b[38;5;241m1\u001b[39m\n\u001b[1;32m      3\u001b[0m \u001b[38;5;66;03m# Train the model\u001b[39;00m\n\u001b[0;32m----> 4\u001b[0m losses \u001b[38;5;241m=\u001b[39m \u001b[43mtrain_pinn\u001b[49m\u001b[43m(\u001b[49m\u001b[43m)\u001b[49m\n",
      "Cell \u001b[0;32mIn[6], line 28\u001b[0m, in \u001b[0;36mtrain_pinn\u001b[0;34m()\u001b[0m\n\u001b[1;32m     24\u001b[0m optimizer\u001b[38;5;241m.\u001b[39mzero_grad()\n\u001b[1;32m     26\u001b[0m total_loss, pde_loss \u001b[38;5;241m=\u001b[39m compute_pinn_loss()\n\u001b[0;32m---> 28\u001b[0m \u001b[43mtotal_loss\u001b[49m\u001b[38;5;241;43m.\u001b[39;49m\u001b[43mbackward\u001b[49m\u001b[43m(\u001b[49m\u001b[43m)\u001b[49m\n\u001b[1;32m     29\u001b[0m optimizer\u001b[38;5;241m.\u001b[39mstep()\n\u001b[1;32m     31\u001b[0m losses\u001b[38;5;241m.\u001b[39mappend(pde_loss\u001b[38;5;241m.\u001b[39mitem())\n",
      "File \u001b[0;32m~/.local/lib/python3.10/site-packages/torch/_tensor.py:521\u001b[0m, in \u001b[0;36mTensor.backward\u001b[0;34m(self, gradient, retain_graph, create_graph, inputs)\u001b[0m\n\u001b[1;32m    511\u001b[0m \u001b[38;5;28;01mif\u001b[39;00m has_torch_function_unary(\u001b[38;5;28mself\u001b[39m):\n\u001b[1;32m    512\u001b[0m     \u001b[38;5;28;01mreturn\u001b[39;00m handle_torch_function(\n\u001b[1;32m    513\u001b[0m         Tensor\u001b[38;5;241m.\u001b[39mbackward,\n\u001b[1;32m    514\u001b[0m         (\u001b[38;5;28mself\u001b[39m,),\n\u001b[0;32m   (...)\u001b[0m\n\u001b[1;32m    519\u001b[0m         inputs\u001b[38;5;241m=\u001b[39minputs,\n\u001b[1;32m    520\u001b[0m     )\n\u001b[0;32m--> 521\u001b[0m \u001b[43mtorch\u001b[49m\u001b[38;5;241;43m.\u001b[39;49m\u001b[43mautograd\u001b[49m\u001b[38;5;241;43m.\u001b[39;49m\u001b[43mbackward\u001b[49m\u001b[43m(\u001b[49m\n\u001b[1;32m    522\u001b[0m \u001b[43m    \u001b[49m\u001b[38;5;28;43mself\u001b[39;49m\u001b[43m,\u001b[49m\u001b[43m \u001b[49m\u001b[43mgradient\u001b[49m\u001b[43m,\u001b[49m\u001b[43m \u001b[49m\u001b[43mretain_graph\u001b[49m\u001b[43m,\u001b[49m\u001b[43m \u001b[49m\u001b[43mcreate_graph\u001b[49m\u001b[43m,\u001b[49m\u001b[43m \u001b[49m\u001b[43minputs\u001b[49m\u001b[38;5;241;43m=\u001b[39;49m\u001b[43minputs\u001b[49m\n\u001b[1;32m    523\u001b[0m \u001b[43m\u001b[49m\u001b[43m)\u001b[49m\n",
      "File \u001b[0;32m~/.local/lib/python3.10/site-packages/torch/autograd/__init__.py:289\u001b[0m, in \u001b[0;36mbackward\u001b[0;34m(tensors, grad_tensors, retain_graph, create_graph, grad_variables, inputs)\u001b[0m\n\u001b[1;32m    284\u001b[0m     retain_graph \u001b[38;5;241m=\u001b[39m create_graph\n\u001b[1;32m    286\u001b[0m \u001b[38;5;66;03m# The reason we repeat the same comment below is that\u001b[39;00m\n\u001b[1;32m    287\u001b[0m \u001b[38;5;66;03m# some Python versions print out the first line of a multi-line function\u001b[39;00m\n\u001b[1;32m    288\u001b[0m \u001b[38;5;66;03m# calls in the traceback and some print out the last line\u001b[39;00m\n\u001b[0;32m--> 289\u001b[0m \u001b[43m_engine_run_backward\u001b[49m\u001b[43m(\u001b[49m\n\u001b[1;32m    290\u001b[0m \u001b[43m    \u001b[49m\u001b[43mtensors\u001b[49m\u001b[43m,\u001b[49m\n\u001b[1;32m    291\u001b[0m \u001b[43m    \u001b[49m\u001b[43mgrad_tensors_\u001b[49m\u001b[43m,\u001b[49m\n\u001b[1;32m    292\u001b[0m \u001b[43m    \u001b[49m\u001b[43mretain_graph\u001b[49m\u001b[43m,\u001b[49m\n\u001b[1;32m    293\u001b[0m \u001b[43m    \u001b[49m\u001b[43mcreate_graph\u001b[49m\u001b[43m,\u001b[49m\n\u001b[1;32m    294\u001b[0m \u001b[43m    \u001b[49m\u001b[43minputs\u001b[49m\u001b[43m,\u001b[49m\n\u001b[1;32m    295\u001b[0m \u001b[43m    \u001b[49m\u001b[43mallow_unreachable\u001b[49m\u001b[38;5;241;43m=\u001b[39;49m\u001b[38;5;28;43;01mTrue\u001b[39;49;00m\u001b[43m,\u001b[49m\n\u001b[1;32m    296\u001b[0m \u001b[43m    \u001b[49m\u001b[43maccumulate_grad\u001b[49m\u001b[38;5;241;43m=\u001b[39;49m\u001b[38;5;28;43;01mTrue\u001b[39;49;00m\u001b[43m,\u001b[49m\n\u001b[1;32m    297\u001b[0m \u001b[43m\u001b[49m\u001b[43m)\u001b[49m\n",
      "File \u001b[0;32m~/.local/lib/python3.10/site-packages/torch/autograd/graph.py:769\u001b[0m, in \u001b[0;36m_engine_run_backward\u001b[0;34m(t_outputs, *args, **kwargs)\u001b[0m\n\u001b[1;32m    767\u001b[0m     unregister_hooks \u001b[38;5;241m=\u001b[39m _register_logging_hooks_on_whole_graph(t_outputs)\n\u001b[1;32m    768\u001b[0m \u001b[38;5;28;01mtry\u001b[39;00m:\n\u001b[0;32m--> 769\u001b[0m     \u001b[38;5;28;01mreturn\u001b[39;00m \u001b[43mVariable\u001b[49m\u001b[38;5;241;43m.\u001b[39;49m\u001b[43m_execution_engine\u001b[49m\u001b[38;5;241;43m.\u001b[39;49m\u001b[43mrun_backward\u001b[49m\u001b[43m(\u001b[49m\u001b[43m  \u001b[49m\u001b[38;5;66;43;03m# Calls into the C++ engine to run the backward pass\u001b[39;49;00m\n\u001b[1;32m    770\u001b[0m \u001b[43m        \u001b[49m\u001b[43mt_outputs\u001b[49m\u001b[43m,\u001b[49m\u001b[43m \u001b[49m\u001b[38;5;241;43m*\u001b[39;49m\u001b[43margs\u001b[49m\u001b[43m,\u001b[49m\u001b[43m \u001b[49m\u001b[38;5;241;43m*\u001b[39;49m\u001b[38;5;241;43m*\u001b[39;49m\u001b[43mkwargs\u001b[49m\n\u001b[1;32m    771\u001b[0m \u001b[43m    \u001b[49m\u001b[43m)\u001b[49m  \u001b[38;5;66;03m# Calls into the C++ engine to run the backward pass\u001b[39;00m\n\u001b[1;32m    772\u001b[0m \u001b[38;5;28;01mfinally\u001b[39;00m:\n\u001b[1;32m    773\u001b[0m     \u001b[38;5;28;01mif\u001b[39;00m attach_logging_hooks:\n",
      "\u001b[0;31mKeyboardInterrupt\u001b[0m: "
     ]
    }
   ],
   "source": [
    "num_epochs = 2*10**4+1\n",
    "\n",
    "# Train the model\n",
    "losses = train_pinn()"
   ]
  },
  {
   "cell_type": "code",
   "execution_count": 16,
   "id": "d8f66915-0055-4b0f-9c56-134b4a2dc571",
   "metadata": {
    "execution": {
     "iopub.execute_input": "2024-11-10T19:50:51.236491Z",
     "iopub.status.busy": "2024-11-10T19:50:51.236093Z",
     "iopub.status.idle": "2024-11-10T19:50:51.522338Z",
     "shell.execute_reply": "2024-11-10T19:50:51.520957Z",
     "shell.execute_reply.started": "2024-11-10T19:50:51.236452Z"
    }
   },
   "outputs": [
    {
     "name": "stdout",
     "output_type": "stream",
     "text": [
      "tensor(0.0039)\n"
     ]
    },
    {
     "data": {
      "image/png": "[encoded data removed]",
      "text/plain": [
       "<Figure size 640x480 with 1 Axes>"
      ]
     },
     "metadata": {},
     "output_type": "display_data"
    }
   ],
   "source": [
    "e = e.cpu()\n",
    "ttest = torch.linspace(0,1,n_validation)\n",
    "Wtest = torch.stack([wavelet(ttest,family[i,0],family[i,1]) for i in range(len(family))]).T.to(device)\n",
    "\n",
    "exacttest = analytical(ttest)\n",
    "\n",
    "pred = (torch.mv(Wtest, c) + b).cpu().detach().numpy()\n",
    "errL2 = (torch.sum(torch.abs(exacttest-pred)**2))**0.5 / (torch.sum(torch.abs(exacttest)**2))**0.5\n",
    "print(errL2)\n",
    "\n",
    "plt.plot(ttest, exacttest)\n",
    "plt.plot(ttest, pred)\n",
    "\n",
    "plt.show()"
   ]
  },
  {
   "cell_type": "code",
   "execution_count": null,
   "id": "9e2c3222-80ae-4d85-9ae4-953504514b76",
   "metadata": {},
   "outputs": [],
   "source": []
  }
 ],
 "metadata": {
  "kernelspec": {
   "display_name": "Python 3 (ipykernel)",
   "language": "python",
   "name": "python3"
  },
  "language_info": {
   "codemirror_mode": {
    "name": "ipython",
    "version": 3
   },
   "file_extension": ".py",
   "mimetype": "text/x-python",
   "name": "python",
   "nbconvert_exporter": "python",
   "pygments_lexer": "ipython3",
   "version": "3.10.12"
  }
 },
 "nbformat": 4,
 "nbformat_minor": 5
}
