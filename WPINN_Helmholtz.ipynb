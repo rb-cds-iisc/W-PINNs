{
 "cells": [
  {
   "cell_type": "code",
   "execution_count": 1,
   "metadata": {
    "ExecuteTime": {
     "end_time": "2024-07-24T05:17:06.059075Z",
     "start_time": "2024-07-24T05:17:04.392186Z"
    },
    "execution": {
     "iopub.execute_input": "2024-11-10T19:21:35.667983Z",
     "iopub.status.busy": "2024-11-10T19:21:35.667004Z",
     "iopub.status.idle": "2024-11-10T19:21:37.672782Z",
     "shell.execute_reply": "2024-11-10T19:21:37.671405Z",
     "shell.execute_reply.started": "2024-11-10T19:21:35.667926Z"
    }
   },
   "outputs": [],
   "source": [
    "import torch\n",
    "import torch.nn as nn\n",
    "import torch.optim as optim\n",
    "import torch.nn.init as init\n",
    "import numpy as np\n",
    "from numpy import random as npr\n",
    "from math import gamma\n",
    "from math import factorial\n",
    "from sobol_seq import sobol_seq\n",
    "import matplotlib.pyplot as plt\n",
    "\n",
    "from scipy.integrate import solve_ivp\n",
    "import scipy.integrate as integrate"
   ]
  },
  {
   "cell_type": "code",
   "execution_count": 2,
   "metadata": {
    "ExecuteTime": {
     "end_time": "2024-07-24T05:17:06.065260Z",
     "start_time": "2024-07-24T05:17:06.060815Z"
    },
    "execution": {
     "iopub.execute_input": "2024-11-10T19:21:37.676116Z",
     "iopub.status.busy": "2024-11-10T19:21:37.675185Z",
     "iopub.status.idle": "2024-11-10T19:21:37.685731Z",
     "shell.execute_reply": "2024-11-10T19:21:37.684225Z",
     "shell.execute_reply.started": "2024-11-10T19:21:37.676056Z"
    }
   },
   "outputs": [
    {
     "data": {
      "text/plain": [
       "device(type='cuda', index=0)"
      ]
     },
     "execution_count": 2,
     "metadata": {},
     "output_type": "execute_result"
    }
   ],
   "source": [
    "device = torch.device('cuda:0')\n",
    "device"
   ]
  },
  {
   "cell_type": "code",
   "execution_count": 3,
   "metadata": {
    "execution": {
     "iopub.execute_input": "2024-11-10T19:21:37.688329Z",
     "iopub.status.busy": "2024-11-10T19:21:37.687812Z",
     "iopub.status.idle": "2024-11-10T19:21:37.868184Z",
     "shell.execute_reply": "2024-11-10T19:21:37.867540Z",
     "shell.execute_reply.started": "2024-11-10T19:21:37.688280Z"
    }
   },
   "outputs": [],
   "source": [
    "n_collocation = 10000\n",
    "n_validation = 1000\n",
    "n_initial = 2000\n",
    "n_boundary = 2000\n",
    "x_lower = -1\n",
    "x_upper = 1\n",
    "y_lower = -1\n",
    "y_upper = 1\n",
    "\n",
    "a1 = 1\n",
    "a2 = 8\n",
    "\n",
    "\n",
    "def analytical(x,t):\n",
    "    p = torch.pi\n",
    "    s1 = torch.sin(a1*p*x)\n",
    "    s2 = torch.sin(a2*p*t)\n",
    "\n",
    "    return s1*s2\n",
    "\n",
    "\n",
    "def right_side(x,t):\n",
    "    p = torch.pi\n",
    "    s1 = torch.sin(a1*p*x)\n",
    "    s2 = torch.sin(a2*p*t)\n",
    "\n",
    "    return (1 - (a1**2 + a2**2)*p**2)*s1*s2\n",
    "\n",
    "# Collocation points\n",
    "x_collocation = (torch.rand(n_collocation) * (x_upper - x_lower) + x_lower).to(device)\n",
    "y_collocation = (torch.rand(n_collocation) * (y_upper - y_lower) + y_lower).to(device)\n",
    "\n",
    "#validation points\n",
    "x_validation = (torch.rand(n_validation) * (x_upper - x_lower) + x_lower).to(device)\n",
    "y_validation = (torch.rand(n_validation) * (y_upper - y_lower) + y_lower).to(device)\n",
    "\n",
    "# Initial and boundary condition points\n",
    "x_bc = (torch.rand(n_initial) * (x_upper - x_lower) + x_lower).to(device)\n",
    "y_bc_left = y_lower*torch.ones(n_boundary).to(device)\n",
    "y_bc_right = y_upper*torch.ones(n_boundary).to(device)\n",
    "u_ybc_left = analytical(x_bc, y_bc_left)\n",
    "u_ybc_right = analytical(x_bc, y_bc_right)\n",
    "\n",
    "y_bc = (torch.rand(n_boundary) * (y_upper - y_lower) + y_lower).to(device)\n",
    "x_bc_left = x_lower*torch.ones(n_boundary).to(device)\n",
    "x_bc_right = x_upper*torch.ones(n_boundary).to(device)\n",
    "u_xbc_left = analytical(x_bc_left, y_bc)\n",
    "u_xbc_right = analytical(x_bc_right, y_bc)\n",
    "\n",
    "exact = analytical(x_validation, y_validation)\n",
    "rhs = right_side(x_collocation, y_collocation)"
   ]
  },
  {
   "cell_type": "code",
   "execution_count": 4,
   "metadata": {
    "execution": {
     "iopub.execute_input": "2024-11-10T19:21:37.869206Z",
     "iopub.status.busy": "2024-11-10T19:21:37.868999Z",
     "iopub.status.idle": "2024-11-10T19:22:02.552468Z",
     "shell.execute_reply": "2024-11-10T19:22:02.551613Z",
     "shell.execute_reply.started": "2024-11-10T19:21:37.869189Z"
    }
   },
   "outputs": [
    {
     "name": "stdout",
     "output_type": "stream",
     "text": [
      "21316\n"
     ]
    }
   ],
   "source": [
    "# gaussian wavelet and its derivatives\n",
    "def wavelet(x,y,jx,jy,kx,ky):\n",
    "    return (jx*x - kx)*(jy*y - ky)*torch.exp(-((jx*x - kx)**2 + (jy*y - ky)**2)/2)\n",
    "\n",
    "def D1xwavelet(x,y,jx,jy,kx,ky):\n",
    "    return jx*(1-(jx*x - kx)**2)*(jy*y - ky)*torch.exp(-((jx*x - kx)**2 + (jy*y - ky)**2)/2)\n",
    "\n",
    "def D1twavelet(x,y,jx,jy,kx,ky):\n",
    "    return jy*(1-(jy*y - ky)**2)*(jx*x - kx)*torch.exp(-((jx*x - kx)**2 + (jy*y - ky)**2)/2)\n",
    "\n",
    "def D2xwavelet(x,y,jx,jy,kx,ky):\n",
    "    return -(jx**2)*(jx*x - kx)*(jy*y-ky)*(3 - (jx*x - kx)**2)*torch.exp(-((jx*x - kx)**2 + (jy*y - ky)**2)/2)\n",
    "\n",
    "def D2twavelet(x,y,jx,jy,kx,ky):\n",
    "    return -(jy**2)*(jx*x - kx)*(jy*y-ky)*(3 - (jy*y - ky)**2)*torch.exp(-((jx*x - kx)**2 + (jy*y - ky)**2)/2)\n",
    "\n",
    "\n",
    "\n",
    "# resolution\n",
    "Jx = torch.tensor([-4, -3, -2, -1, 0.0, 1, 2, 3, 4, 5])\n",
    "Jy = torch.tensor([-4, -3, -2, -1, 0.0, 1, 2, 3, 4, 5])\n",
    "\n",
    "family = torch.tensor([(2**jx,2**jy,kx,ky) for jx in Jx for jy in Jy for kx in range(-int(1.2*2**jx),int(1.2*2**jx)) for ky in range(-(int(1.2*2**jy)),int(1.2*2**jy))]).to(device)\n",
    "\n",
    "print(len(family))\n",
    "\n",
    "# wavelet matrices\n",
    "Wfamily = torch.stack([wavelet(x_collocation,y_collocation,family[i,0],family[i,1],family[i,2],family[i,3]) for i in range(len(family))]).T\n",
    "DW2x = torch.stack([D2xwavelet(x_collocation,y_collocation,family[i,0],family[i,1],family[i,2],family[i,3]) for i in range(len(family))]).T\n",
    "DW2y = torch.stack([D2twavelet(x_collocation,y_collocation,family[i,0],family[i,1],family[i,2],family[i,3]) for i in range(len(family))]).T\n",
    "\n",
    "xWbc_left = torch.stack([wavelet(x_bc_left,y_bc,family[i,0],family[i,1],family[i,2],family[i,3]) for i in range(len(family))]).T\n",
    "xWbc_right = torch.stack([wavelet(x_bc_right,y_bc,family[i,0],family[i,1],family[i,2],family[i,3]) for i in range(len(family))]).T\n",
    "yWbc_left = torch.stack([wavelet(x_bc,y_bc_left,family[i,0],family[i,1],family[i,2],family[i,3]) for i in range(len(family))]).T\n",
    "yWbc_right = torch.stack([wavelet(x_bc,y_bc_right,family[i,0],family[i,1],family[i,2],family[i,3]) for i in range(len(family))]).T\n",
    "\n",
    "WVal = torch.stack([wavelet(x_validation,y_validation,family[i,0],family[i,1],family[i,2],family[i,3]) for i in range(len(family))]).T\n"
   ]
  },
  {
   "cell_type": "code",
   "execution_count": 5,
   "metadata": {
    "execution": {
     "iopub.execute_input": "2024-11-10T19:22:02.553700Z",
     "iopub.status.busy": "2024-11-10T19:22:02.553481Z",
     "iopub.status.idle": "2024-11-10T19:22:03.194739Z",
     "shell.execute_reply": "2024-11-10T19:22:03.193931Z",
     "shell.execute_reply.started": "2024-11-10T19:22:02.553681Z"
    }
   },
   "outputs": [
    {
     "data": {
      "text/plain": [
       "torch.Size([10000])"
      ]
     },
     "execution_count": 5,
     "metadata": {},
     "output_type": "execute_result"
    }
   ],
   "source": [
    "class WPINN_Network(nn.Module):\n",
    "    def __init__(self, input_size = n_collocation, \n",
    "                 num_hidden_layers1 = 2, \n",
    "                 num_hidden_layers2 = 5, \n",
    "                 hidden_neurons = 50, \n",
    "                 family_size = len(family)):\n",
    "        \n",
    "        super(WPINN_Network, self).__init__()\n",
    "        \n",
    "        self.activation = nn.Tanh()\n",
    "        \n",
    "        # processes each (x,y) point to create single feature\n",
    "        first_stage_layers = []\n",
    "        \n",
    "        # Input layer\n",
    "        first_stage_layers.append(nn.Linear(2, hidden_neurons)) \n",
    "        first_stage_layers.append(self.activation)\n",
    "        \n",
    "        for _ in range(num_hidden_layers1):\n",
    "            first_stage_layers.append(nn.Linear(hidden_neurons, hidden_neurons))\n",
    "            first_stage_layers.append(self.activation)\n",
    "        \n",
    "        # single feature per point\n",
    "        first_stage_layers.append(nn.Linear(hidden_neurons, 1))\n",
    "        self.first_stage = nn.Sequential(*first_stage_layers)\n",
    "        \n",
    "        #processes all point features to create global coefficients\n",
    "        second_stage_layers = []\n",
    "        \n",
    "        second_stage_layers.append(nn.Linear(input_size, hidden_neurons))\n",
    "        second_stage_layers.append(self.activation)\n",
    "        \n",
    "        for _ in range(num_hidden_layers2):  \n",
    "            second_stage_layers.append(nn.Linear(hidden_neurons, hidden_neurons))\n",
    "            second_stage_layers.append(self.activation)\n",
    "        \n",
    "        # Final layer outputs the wavelet coefficients\n",
    "        second_stage_layers.append(nn.Linear(hidden_neurons, family_size))\n",
    "        self.second_stage = nn.Sequential(*second_stage_layers)\n",
    "        \n",
    "        # Initialize weights\n",
    "        for network in [self.first_stage, self.second_stage]:\n",
    "            for m in network:\n",
    "                if isinstance(m, nn.Linear):\n",
    "                    init.xavier_uniform_(m.weight)\n",
    "                    init.constant_(m.bias, 0)\n",
    "        \n",
    "   \n",
    "        self.output_layers = nn.ModuleList()\n",
    "        for i in range(3):\n",
    "            output_layer = nn.Linear(family_size, 1)\n",
    "            output_layer.weight.requires_grad = False\n",
    "            output_layer.bias.data = torch.tensor(0.0 if i > 0 else 0.5)\n",
    "            output_layer.bias.requires_grad = i == 0\n",
    "            self.output_layers.append(output_layer)\n",
    "\n",
    "    def forward(self, x, y, W):\n",
    "      \n",
    "        inputs = torch.stack([x, y], dim=-1)  \n",
    "        \n",
    "       \n",
    "        point_features = self.first_stage(inputs) \n",
    "        point_features = point_features.squeeze(-1) \n",
    "        \n",
    "        coefficients = self.second_stage(point_features)  \n",
    "        \n",
    "        # Generate outputs using the wavelet family\n",
    "        outputs = []\n",
    "        for i, layer in enumerate(self.output_layers):\n",
    "            layer.weight.data = W[i]\n",
    "            outputs.append(layer(coefficients))\n",
    "\n",
    "        bias = self.output_layers[0].bias\n",
    "        \n",
    "        return coefficients, bias, outputs\n",
    "\n",
    "model = WPINN_Network().to(device)\n",
    "optimizer1 = optim.Adam(model.parameters(), lr=0.0001)\n",
    "c, b, u = model(x_collocation, y_collocation, [Wfamily, DW2x, DW2y])\n",
    "u[0].shape"
   ]
  },
  {
   "cell_type": "code",
   "execution_count": 6,
   "metadata": {
    "execution": {
     "iopub.execute_input": "2024-11-10T19:22:03.197011Z",
     "iopub.status.busy": "2024-11-10T19:22:03.196604Z",
     "iopub.status.idle": "2024-11-10T19:22:03.203111Z",
     "shell.execute_reply": "2024-11-10T19:22:03.202499Z",
     "shell.execute_reply.started": "2024-11-10T19:22:03.196991Z"
    }
   },
   "outputs": [],
   "source": [
    "# coefficient refinement network\n",
    "\n",
    "class CoefficientRefinementNetwork(nn.Module):\n",
    "    def __init__(self, initial_coefficients, initial_bias, family_size = len(family)):\n",
    "        \n",
    "        super(CoefficientRefinementNetwork, self).__init__()\n",
    "        \n",
    "        # Store initial coefficients and bias from WPINN network\n",
    "        self.coefficients = nn.Parameter(initial_coefficients.clone().detach())\n",
    "        self.bias = nn.Parameter(initial_bias.clone().detach())\n",
    "        \n",
    "        self.output_layers = nn.ModuleList()\n",
    "        for i in range(3):\n",
    "            output_layer = nn.Linear(family_size, 1)\n",
    "            output_layer.weight.requires_grad = False\n",
    "            output_layer.bias.data = (torch.tensor(0.0) if i > 0 else self.bias)\n",
    "            output_layer.bias.requires_grad = i == 0\n",
    "            self.output_layers.append(output_layer)\n",
    "\n",
    "    def forward(self, x, y, W):\n",
    "        outputs = []\n",
    "        for i, layer in enumerate(self.output_layers):\n",
    "            layer.weight.data = W[i]\n",
    "            outputs.append(layer(self.coefficients))\n",
    "\n",
    "        bias = self.output_layers[0].bias\n",
    "        \n",
    "        return self.coefficients, bias, outputs"
   ]
  },
  {
   "cell_type": "code",
   "execution_count": 7,
   "metadata": {
    "execution": {
     "iopub.execute_input": "2024-11-10T19:22:03.204374Z",
     "iopub.status.busy": "2024-11-10T19:22:03.204187Z",
     "iopub.status.idle": "2024-11-10T19:22:03.211921Z",
     "shell.execute_reply": "2024-11-10T19:22:03.211323Z",
     "shell.execute_reply.started": "2024-11-10T19:22:03.204356Z"
    }
   },
   "outputs": [],
   "source": [
    "def wpinn_loss():   \n",
    "    # PDE loss at collocation points\n",
    "    x_interior = x_collocation.clone()\n",
    "    y_interior = y_collocation.clone()\n",
    "\n",
    "    global c, b\n",
    "    c, b, u = model(x_interior, y_interior, [Wfamily, DW2x, DW2y])\n",
    "    u_pred_xbc_left = torch.mv(xWbc_left, c) + b\n",
    "    u_pred_xbc_right = torch.mv(xWbc_right, c) + b\n",
    "    u_pred_ybc_left = torch.mv(yWbc_left, c) + b\n",
    "    u_pred_ybc_right = torch.mv(yWbc_right, c) + b\n",
    "    \n",
    "    pde_loss = torch.mean((u[2] + u[1] + u[0] - rhs) ** 2)\n",
    "    \n",
    "    xbc_loss = torch.mean((u_pred_xbc_left - u_xbc_left)** 2) + torch.mean((u_pred_xbc_right - u_xbc_right)** 2)\n",
    "\n",
    "    ybc_loss = torch.mean((u_pred_ybc_left - u_ybc_left) ** 2) + torch.mean((u_pred_ybc_right - u_ybc_right) ** 2)\n",
    "    \n",
    "    total_loss = pde_loss + xbc_loss + ybc_loss\n",
    "    \n",
    "    return total_loss, pde_loss, xbc_loss, ybc_loss\n",
    "\n",
    "def train_pinn(optimizer, num_prints):\n",
    "    # Training loop\n",
    "    pde_losses = []\n",
    "    xbc_losses = []\n",
    "    ybc_losses = []\n",
    "    for epoch in range(num_epochs):\n",
    "        optimizer.zero_grad()\n",
    "\n",
    "        total_loss, pde_loss, xbc_loss, ybc_loss = wpinn_loss()\n",
    "        \n",
    "        total_loss.backward()\n",
    "        optimizer.step()\n",
    "        \n",
    "        pde_losses.append(pde_loss.item())\n",
    "        xbc_losses.append(xbc_loss.item())\n",
    "        ybc_losses.append(ybc_loss.item())\n",
    "\n",
    "        # Validation\n",
    "        if epoch % ((num_epochs-1)/num_prints) == 0:\n",
    "            numerical = torch.mv(WVal, c) + b\n",
    "            errL2 = (torch.sum(torch.abs(exact-numerical)**2))**0.5 / (torch.sum(torch.abs(exact)**2))**0.5\n",
    "            errMax = torch.max(torch.abs(exact-numerical))\n",
    "            \n",
    "            print(f'Epoch [{epoch}/{num_epochs-1}], '\n",
    "                  f'Total Loss: {total_loss.item():.6f}, '\n",
    "                  f'PDE Loss: {pde_loss.item():.6f}, '\n",
    "                  f'xBC Loss: {xbc_loss.item():.6f}, '\n",
    "                  f'yBC Loss: {ybc_loss.item():.6f}\\n\\t\\t'\n",
    "                  f'RelativeL2: {errL2},\\t\\t'\n",
    "                  f'Max: {errMax}\\n' )\n",
    "    \n",
    "    return [pde_losses, xbc_losses, ybc_losses]"
   ]
  },
  {
   "cell_type": "code",
   "execution_count": 8,
   "metadata": {
    "execution": {
     "iopub.execute_input": "2024-11-10T19:22:03.214648Z",
     "iopub.status.busy": "2024-11-10T19:22:03.213698Z",
     "iopub.status.idle": "2024-11-10T19:27:28.748084Z",
     "shell.execute_reply": "2024-11-10T19:27:28.747003Z",
     "shell.execute_reply.started": "2024-11-10T19:22:03.214566Z"
    }
   },
   "outputs": [
    {
     "name": "stdout",
     "output_type": "stream",
     "text": [
      "Epoch [0/100000], Total Loss: 107989.210938, PDE Loss: 107988.195312, xBC Loss: 0.506537, yBC Loss: 0.507070\n",
      "\t\tRelativeL2: 1.440400242805481,\t\tMax: 1.5707181692123413\n",
      "\n",
      "Epoch [5000/100000], Total Loss: 1.027154, PDE Loss: 1.025680, xBC Loss: 0.001126, yBC Loss: 0.000349\n",
      "\t\tRelativeL2: 0.008981514722108841,\t\tMax: 0.02645241841673851\n",
      "\n",
      "Epoch [10000/100000], Total Loss: 0.930214, PDE Loss: 0.930083, xBC Loss: 0.000082, yBC Loss: 0.000049\n",
      "\t\tRelativeL2: 0.002351896371692419,\t\tMax: 0.007755249738693237\n",
      "\n",
      "Epoch [15000/100000], Total Loss: 0.051765, PDE Loss: 0.051718, xBC Loss: 0.000029, yBC Loss: 0.000017\n",
      "\t\tRelativeL2: 0.0011754422448575497,\t\tMax: 0.004682749509811401\n",
      "\n",
      "Epoch [20000/100000], Total Loss: 0.000313, PDE Loss: 0.000281, xBC Loss: 0.000021, yBC Loss: 0.000011\n",
      "\t\tRelativeL2: 0.0009113270789384842,\t\tMax: 0.003990165889263153\n",
      "\n",
      "Epoch [25000/100000], Total Loss: 0.743103, PDE Loss: 0.743083, xBC Loss: 0.000012, yBC Loss: 0.000008\n",
      "\t\tRelativeL2: 0.0013243354624137282,\t\tMax: 0.003488771617412567\n",
      "\n",
      "Epoch [30000/100000], Total Loss: 0.000260, PDE Loss: 0.000237, xBC Loss: 0.000015, yBC Loss: 0.000008\n",
      "\t\tRelativeL2: 0.0008425615378655493,\t\tMax: 0.0035171322524547577\n",
      "\n"
     ]
    },
    {
     "ename": "KeyboardInterrupt",
     "evalue": "",
     "output_type": "error",
     "traceback": [
      "\u001b[0;31m---------------------------------------------------------------------------\u001b[0m",
      "\u001b[0;31mKeyboardInterrupt\u001b[0m                         Traceback (most recent call last)",
      "Cell \u001b[0;32mIn[8], line 2\u001b[0m\n\u001b[1;32m      1\u001b[0m num_epochs \u001b[38;5;241m=\u001b[39m \u001b[38;5;241m10\u001b[39m\u001b[38;5;241m*\u001b[39m\u001b[38;5;241m*\u001b[39m\u001b[38;5;241m5\u001b[39m\u001b[38;5;241m+\u001b[39m\u001b[38;5;241m1\u001b[39m\n\u001b[0;32m----> 2\u001b[0m l \u001b[38;5;241m=\u001b[39m \u001b[43mtrain_pinn\u001b[49m\u001b[43m(\u001b[49m\u001b[43moptimizer1\u001b[49m\u001b[43m,\u001b[49m\u001b[43m \u001b[49m\u001b[43mnum_prints\u001b[49m\u001b[38;5;241;43m=\u001b[39;49m\u001b[38;5;241;43m20\u001b[39;49m\u001b[43m)\u001b[49m\n",
      "Cell \u001b[0;32mIn[7], line 38\u001b[0m, in \u001b[0;36mtrain_pinn\u001b[0;34m(optimizer, num_prints)\u001b[0m\n\u001b[1;32m     35\u001b[0m optimizer\u001b[38;5;241m.\u001b[39mstep()\n\u001b[1;32m     36\u001b[0m \u001b[38;5;66;03m# scheduler.step(total_loss)\u001b[39;00m\n\u001b[0;32m---> 38\u001b[0m pde_losses\u001b[38;5;241m.\u001b[39mappend(\u001b[43mpde_loss\u001b[49m\u001b[38;5;241;43m.\u001b[39;49m\u001b[43mitem\u001b[49m\u001b[43m(\u001b[49m\u001b[43m)\u001b[49m)\n\u001b[1;32m     39\u001b[0m xbc_losses\u001b[38;5;241m.\u001b[39mappend(xbc_loss\u001b[38;5;241m.\u001b[39mitem())\n\u001b[1;32m     40\u001b[0m ybc_losses\u001b[38;5;241m.\u001b[39mappend(ybc_loss\u001b[38;5;241m.\u001b[39mitem())\n",
      "\u001b[0;31mKeyboardInterrupt\u001b[0m: "
     ]
    }
   ],
   "source": [
    "#call for training\n",
    "\n",
    "num_epochs = 10**5+1\n",
    "loss = train_pinn(optimizer1, num_prints=20)"
   ]
  },
  {
   "cell_type": "code",
   "execution_count": 9,
   "metadata": {
    "execution": {
     "iopub.execute_input": "2024-11-10T19:27:31.117677Z",
     "iopub.status.busy": "2024-11-10T19:27:31.116882Z",
     "iopub.status.idle": "2024-11-10T19:27:31.127862Z",
     "shell.execute_reply": "2024-11-10T19:27:31.126338Z",
     "shell.execute_reply.started": "2024-11-10T19:27:31.117621Z"
    }
   },
   "outputs": [],
   "source": [
    "#coefficient refinement\n",
    "\n",
    "model = CoefficientRefinementNetwork(initial_coefficients=c, initial_bias = b).to(device)\n",
    "optimizer2 = optim.Adam(model.parameters(), lr=0.0001)  # Lower learning rate"
   ]
  },
  {
   "cell_type": "code",
   "execution_count": 10,
   "metadata": {
    "execution": {
     "iopub.execute_input": "2024-11-10T19:27:34.920079Z",
     "iopub.status.busy": "2024-11-10T19:27:34.919222Z",
     "iopub.status.idle": "2024-11-10T19:28:26.746917Z",
     "shell.execute_reply": "2024-11-10T19:28:26.745874Z",
     "shell.execute_reply.started": "2024-11-10T19:27:34.920022Z"
    }
   },
   "outputs": [
    {
     "name": "stdout",
     "output_type": "stream",
     "text": [
      "Epoch [0/100000], Total Loss: 0.000255, PDE Loss: 0.000234, xBC Loss: 0.000013, yBC Loss: 0.000007\n",
      "\t\tRelativeL2: 0.0020190866198390722,\t\tMax: 0.003667157143354416\n",
      "\n",
      "Epoch [5000/100000], Total Loss: 0.005296, PDE Loss: 0.005289, xBC Loss: 0.000004, yBC Loss: 0.000004\n",
      "\t\tRelativeL2: 0.00039791909512132406,\t\tMax: 0.0023054543416947126\n",
      "\n"
     ]
    },
    {
     "ename": "KeyboardInterrupt",
     "evalue": "",
     "output_type": "error",
     "traceback": [
      "\u001b[0;31m---------------------------------------------------------------------------\u001b[0m",
      "\u001b[0;31mKeyboardInterrupt\u001b[0m                         Traceback (most recent call last)",
      "Cell \u001b[0;32mIn[10], line 2\u001b[0m\n\u001b[1;32m      1\u001b[0m num_epochs \u001b[38;5;241m=\u001b[39m \u001b[38;5;241m10\u001b[39m\u001b[38;5;241m*\u001b[39m\u001b[38;5;241m*\u001b[39m\u001b[38;5;241m5\u001b[39m\u001b[38;5;241m+\u001b[39m\u001b[38;5;241m1\u001b[39m\n\u001b[0;32m----> 2\u001b[0m l \u001b[38;5;241m=\u001b[39m \u001b[43mtrain_pinn\u001b[49m\u001b[43m(\u001b[49m\u001b[43moptimizer2\u001b[49m\u001b[43m,\u001b[49m\u001b[43m \u001b[49m\u001b[43mnum_prints\u001b[49m\u001b[38;5;241;43m=\u001b[39;49m\u001b[38;5;241;43m20\u001b[39;49m\u001b[43m)\u001b[49m\n",
      "Cell \u001b[0;32mIn[7], line 38\u001b[0m, in \u001b[0;36mtrain_pinn\u001b[0;34m(optimizer, num_prints)\u001b[0m\n\u001b[1;32m     35\u001b[0m optimizer\u001b[38;5;241m.\u001b[39mstep()\n\u001b[1;32m     36\u001b[0m \u001b[38;5;66;03m# scheduler.step(total_loss)\u001b[39;00m\n\u001b[0;32m---> 38\u001b[0m pde_losses\u001b[38;5;241m.\u001b[39mappend(\u001b[43mpde_loss\u001b[49m\u001b[38;5;241;43m.\u001b[39;49m\u001b[43mitem\u001b[49m\u001b[43m(\u001b[49m\u001b[43m)\u001b[49m)\n\u001b[1;32m     39\u001b[0m xbc_losses\u001b[38;5;241m.\u001b[39mappend(xbc_loss\u001b[38;5;241m.\u001b[39mitem())\n\u001b[1;32m     40\u001b[0m ybc_losses\u001b[38;5;241m.\u001b[39mappend(ybc_loss\u001b[38;5;241m.\u001b[39mitem())\n",
      "\u001b[0;31mKeyboardInterrupt\u001b[0m: "
     ]
    }
   ],
   "source": [
    "num_epochs = 10**5+1\n",
    "l = train_pinn(optimizer2, num_prints=20)"
   ]
  },
  {
   "cell_type": "code",
   "execution_count": 13,
   "metadata": {
    "execution": {
     "iopub.execute_input": "2024-11-10T19:30:59.336805Z",
     "iopub.status.busy": "2024-11-10T19:30:59.335821Z",
     "iopub.status.idle": "2024-11-10T19:31:01.954656Z",
     "shell.execute_reply": "2024-11-10T19:31:01.953858Z",
     "shell.execute_reply.started": "2024-11-10T19:30:59.336747Z"
    }
   },
   "outputs": [
    {
     "name": "stdout",
     "output_type": "stream",
     "text": [
      "RelativeL2: 0.0005659862654283643 \t Max: 0.004936600103974342\n"
     ]
    }
   ],
   "source": [
    "# Testing\n",
    "\n",
    "ntest = 100\n",
    "xtest = torch.linspace(-1, 1, ntest).to(device)\n",
    "ttest = torch.linspace(0, 1, ntest).to(device)\n",
    "    \n",
    "x_grid, t_grid = torch.meshgrid(xtest, ttest)\n",
    "x_test = x_grid.reshape(-1)\n",
    "t_test = t_grid.reshape(-1)\n",
    "\n",
    "WTest = torch.stack([wavelet(x_test,t_test,family[i,0],family[i,1],family[i,2],family[i,3]) for i in range(len(family))]).T\n",
    "\n",
    "Uexact = analytical(x_test, t_test).reshape(ntest, ntest)\n",
    "\n",
    "with torch.no_grad():\n",
    "    u_pred = torch.mv(WTest, c) + b\n",
    "    Upred = u_pred.reshape(ntest, ntest)\n",
    "\n",
    "errL2 = (torch.sum(torch.abs(Uexact-Upred)**2))**0.5 / (torch.sum(torch.abs(Uexact)**2))**0.5\n",
    "errMax = torch.max(torch.abs(Uexact-Upred))\n",
    "            \n",
    "print(f'RelativeL2: {errL2} \\t Max: {errMax}' )"
   ]
  },
  {
   "cell_type": "code",
   "execution_count": null,
   "metadata": {},
   "outputs": [],
   "source": []
  },
  {
   "cell_type": "code",
   "execution_count": null,
   "metadata": {},
   "outputs": [],
   "source": []
  }
 ],
 "metadata": {
  "kernelspec": {
   "display_name": "Python 3 (ipykernel)",
   "language": "python",
   "name": "python3"
  },
  "language_info": {
   "codemirror_mode": {
    "name": "ipython",
    "version": 3
   },
   "file_extension": ".py",
   "mimetype": "text/x-python",
   "name": "python",
   "nbconvert_exporter": "python",
   "pygments_lexer": "ipython3",
   "version": "3.10.12"
  }
 },
 "nbformat": 4,
 "nbformat_minor": 4
}
